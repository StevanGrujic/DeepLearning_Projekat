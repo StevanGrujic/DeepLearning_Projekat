{
  "cells": [
    {
      "attachments": {},
      "cell_type": "markdown",
      "metadata": {
        "id": "N3gS3tcdmmxZ"
      },
      "source": [
        "# Klasifikacija teksta pomoću GPT2 i Tensorflow-a\n",
        "\n",
        "U ovom projektu ćemo klasifikovati tvitove (analiza sentimenta).\n",
        "\n",
        "Videćemo kakve rezultate daje fino podešavanje (fine-tuning) prethodno obučenog modela (GPT2)."
      ]
    },
    {
      "cell_type": "code",
      "execution_count": 2,
      "metadata": {
        "id": "cgOm-wxynPV-"
      },
      "outputs": [],
      "source": [
        "# Na početku vršimo import korišćenih biblioteka.\n",
        "\n",
        "import math\n",
        "import tensorflow as tf\n",
        "from transformers import GPT2Tokenizer, TFGPT2Model\n",
        "\n",
        "import pandas as pd\n",
        "\n",
        "from sklearn.model_selection import train_test_split\n",
        "\n",
        "from matplotlib import pyplot as plt\n",
        "import seaborn as sns\n",
        "from sklearn.metrics import confusion_matrix\n",
        "from sklearn.metrics import classification_report"
      ]
    },
    {
      "attachments": {},
      "cell_type": "markdown",
      "metadata": {
        "id": "bL2AVkFbsV8v"
      },
      "source": [
        "Vršimo učitavanje odgovarajućeg fajla.\n"
      ]
    },
    {
      "cell_type": "code",
      "execution_count": 42,
      "metadata": {
        "id": "GluhmiLpqqHf"
      },
      "outputs": [],
      "source": [
        "df = pd.read_csv('covid_tweets.csv')"
      ]
    },
    {
      "cell_type": "code",
      "execution_count": 45,
      "metadata": {},
      "outputs": [
        {
          "data": {
            "text/plain": [
              "2728"
            ]
          },
          "execution_count": 45,
          "metadata": {},
          "output_type": "execute_result"
        }
      ],
      "source": [
        "df.size"
      ]
    },
    {
      "attachments": {},
      "cell_type": "markdown",
      "metadata": {
        "id": "BQPFsQmJshU9"
      },
      "source": [
        "Podela podataka na trening i test skup."
      ]
    },
    {
      "cell_type": "code",
      "execution_count": 46,
      "metadata": {
        "id": "3xHatfzwuAHW"
      },
      "outputs": [],
      "source": [
        "X = df['lemmatized_tweets']\n",
        "y = df['VADER_sentiment']\n",
        "\n",
        "X_train, X_test, y_train, y_test = train_test_split(X, y, stratify=y)"
      ]
    },
    {
      "cell_type": "code",
      "execution_count": 47,
      "metadata": {
        "colab": {
          "base_uri": "https://localhost:8080/"
        },
        "id": "eK5zpOjKumhL",
        "outputId": "058f4535-834d-4c7c-d64e-bba08f648563"
      },
      "outputs": [
        {
          "data": {
            "text/plain": [
              "335     recent report show number of vaccine injury in...\n",
              "1661    I just got boost and when I accidently cut mys...\n",
              "56        trump donaldjtrumpjr kimkbaltimore karilake ...\n",
              "667     could a patent free vaccine offer a covid solu...\n",
              "1383    be this story true life insurer refuse to cove...\n",
              "                              ...                        \n",
              "526     tune in to the amazing schedule at the event o...\n",
              "1690    with the corbevax approval vaccination could n...\n",
              "17      european drug maker sanofi and gsk announce po...\n",
              "11      once claim overpopulation to be control and fa...\n",
              "763       vaccination vaccinemandate vaccine omicron h...\n",
              "Name: lemmatized_tweets, Length: 1023, dtype: object"
            ]
          },
          "execution_count": 47,
          "metadata": {},
          "output_type": "execute_result"
        }
      ],
      "source": [
        "X_train"
      ]
    },
    {
      "attachments": {},
      "cell_type": "markdown",
      "metadata": {
        "id": "sWIIsmUXsnxO"
      },
      "source": [
        "Podešavamo MAX_LENGTH (maksimalna dužina sekvence) kao prosečna dužina + 2"
      ]
    },
    {
      "cell_type": "code",
      "execution_count": 48,
      "metadata": {
        "colab": {
          "base_uri": "https://localhost:8080/"
        },
        "id": "8HC4nywLEa2a",
        "outputId": "982c0b5a-dc87-4eec-b226-d62e8b0199ec"
      },
      "outputs": [
        {
          "data": {
            "text/plain": [
              "30"
            ]
          },
          "execution_count": 48,
          "metadata": {},
          "output_type": "execute_result"
        }
      ],
      "source": [
        "MAX_LENGTH = math.ceil((X_train.apply(lambda x: len(str(x).split())).mean()))+2\n",
        "MAX_LENGTH"
      ]
    },
    {
      "attachments": {},
      "cell_type": "markdown",
      "metadata": {
        "id": "HBT9TCOEtDek"
      },
      "source": [
        "Inicijalizacija gpt2 tokenizatora i inicijalizacija PAD i EOS tokena."
      ]
    },
    {
      "cell_type": "code",
      "execution_count": 49,
      "metadata": {
        "colab": {
          "base_uri": "https://localhost:8080/",
          "height": 130,
          "referenced_widgets": [
            "c9912049a982406d932e3adc9fe9d61c",
            "7d5b54e17c354b1f800f81d4a5428ff9",
            "21566811379146c8b55caf7b0a9c5b27",
            "ba51d2f688d84cf19773787a27583f4c",
            "e6bc18dd228142a3864176937738086a",
            "9bdd99caf0ad4f038e731883dce2146e",
            "bce97fa787184732a997abc82a931e05",
            "7dc0ed7811c846b2bf71e8b4e938a0ae",
            "4ba8ac9b9cc14acca878c21c0e7072d5",
            "e1f6d37f989543ce87e12a1f73446bba",
            "af94ed620f9546a191a5f61685e15cf5",
            "dab83b336aa246e8b0e9538eb0db0a34",
            "2395423f62884341b2abca5418552ecf",
            "5aef99c2bf354ed7bc518dd346eea6f8",
            "5221c7c45d0046b99285d0dff6a801b0",
            "32bd62bd982a42ad8910bfea5142b583",
            "6e9eb2f64a504f908d3e6928e4303353",
            "ea6fb84bd978400c89d313411bdd23db",
            "34b011e3fc354d7eb5073d3700ba917a",
            "62b30326d739469f80f3f403ae82b732",
            "dbc56bed04ce46b99494f2fa3ea6effc",
            "5a4c92e4b3b644d4a47ba20ae282c1ae",
            "a2a045421951430ebc57f44047ce87e4",
            "cbc03f6526d449069002c410565f94c7",
            "67c4e93657c543a2925448c30008fd02",
            "fae76282569d42db9be95f323b49d930",
            "306a492a3c8a47ea9bacd9910978bea9",
            "c3f2f32f23bb474f8aab66dcf318da0b",
            "6117904a079d438fbaf3ab4da16fe4a2",
            "76c2f214cc00486aad6cdefcdffcdaa0",
            "5125f72fff9e41cb9ecb0fc108e589c9",
            "6ffa8f079c6442cbb1f04c45fa61930f",
            "40f0381f1e41421db0950145689872a9"
          ]
        },
        "id": "b46ZXowVzT2O",
        "outputId": "b5557cb5-582a-48e5-fb03-5fc809c4a4ad"
      },
      "outputs": [
        {
          "name": "stderr",
          "output_type": "stream",
          "text": [
            "Special tokens have been added in the vocabulary, make sure the associated word embeddings are fine-tuned or trained.\n"
          ]
        }
      ],
      "source": [
        "PAD_TOKEN = \"<|pad|>\"\n",
        "EOS_TOKEN = \"<|endoftext|>\"\n",
        "\n",
        "# this will download and initialize the pre trained tokenizer\n",
        "tokenizer = GPT2Tokenizer.from_pretrained(\"gpt2\",\n",
        "    pad_token=PAD_TOKEN,\n",
        "    eos_token=EOS_TOKEN,\n",
        "    max_length=MAX_LENGTH,\n",
        "    is_split_into_words=True)"
      ]
    },
    {
      "attachments": {},
      "cell_type": "markdown",
      "metadata": {
        "id": "xjme_839tWG-"
      },
      "source": [
        "Postavljamo EOS token na kraj svakog pojedinačnog tvita."
      ]
    },
    {
      "cell_type": "code",
      "execution_count": 50,
      "metadata": {
        "id": "Pqk2q61ZinYR"
      },
      "outputs": [],
      "source": [
        "X_train = [str(ex) + EOS_TOKEN for ex in X_train]\n",
        "X_test = [str(ex) + EOS_TOKEN for ex in X_test]"
      ]
    },
    {
      "attachments": {},
      "cell_type": "markdown",
      "metadata": {
        "id": "LDHLDYV9tbKa"
      },
      "source": [
        "Prosleđujemo tvitove kroz tokenizator, dodajući im praznine do maksimalne dužine. Ovo je lista, pa je moramo spojiti da bismo kreirali ulaz koji odgovara tenzoru."
      ]
    },
    {
      "cell_type": "code",
      "execution_count": 51,
      "metadata": {
        "colab": {
          "base_uri": "https://localhost:8080/"
        },
        "id": "NYQY3XZ0uU_o",
        "outputId": "60afae50-9787-4fc8-8e77-06ee81431217"
      },
      "outputs": [
        {
          "name": "stderr",
          "output_type": "stream",
          "text": [
            "c:\\Users\\stevan.grujic\\AppData\\Local\\Programs\\Python\\Python311\\Lib\\site-packages\\transformers\\tokenization_utils_base.py:2377: FutureWarning: The `pad_to_max_length` argument is deprecated and will be removed in a future version, use `padding=True` or `padding='longest'` to pad to the longest sequence in the batch, or use `padding='max_length'` to pad to a max length. In this case, you can give a specific length with `max_length` (e.g. `max_length=45`) or leave max_length to None to pad to the maximal input size of the model (e.g. 512 for Bert).\n",
            "  warnings.warn(\n"
          ]
        }
      ],
      "source": [
        "X_train_ = [tokenizer(str(x), return_tensors='tf', max_length=MAX_LENGTH, truncation=True, pad_to_max_length=True, add_special_tokens=True)['input_ids'] for x in X_train]\n",
        "X_test_ = [tokenizer(str(x), return_tensors='tf', max_length=MAX_LENGTH, truncation=True, pad_to_max_length=True, add_special_tokens=True)['input_ids'] for x in X_test]\n",
        "\n",
        "X_train_in = tf.squeeze(tf.convert_to_tensor(X_train_), axis=1)\n",
        "X_test_in = tf.squeeze(tf.convert_to_tensor(X_test_), axis=1)"
      ]
    },
    {
      "cell_type": "code",
      "execution_count": 52,
      "metadata": {
        "colab": {
          "base_uri": "https://localhost:8080/"
        },
        "id": "gHyZbbcWuuGZ",
        "outputId": "68bc1351-96ae-4419-bc94-830c5dd4c94b"
      },
      "outputs": [
        {
          "data": {
            "text/plain": [
              "<tf.Tensor: shape=(30,), dtype=int32, numpy=\n",
              "array([49921,   989,   905,  1271,   286, 12319,  5095,   287,   308,\n",
              "        2224,    88,   714,   307,   510,   284,  1865,   991,  4574,\n",
              "         329, 39849,   312, 12319, 14598,   329,   477,  4044,   300,\n",
              "        2306,   263, 19496])>"
            ]
          },
          "execution_count": 52,
          "metadata": {},
          "output_type": "execute_result"
        }
      ],
      "source": [
        "X_train_in[0]"
      ]
    },
    {
      "attachments": {},
      "cell_type": "markdown",
      "metadata": {
        "id": "KpIVjp4Tt55r"
      },
      "source": [
        "Takođe ćemo dobiti masku od tokenizatora (1 je token, 0 je pad token), isto kao što smo uradili za ulaze."
      ]
    },
    {
      "cell_type": "code",
      "execution_count": 53,
      "metadata": {
        "colab": {
          "base_uri": "https://localhost:8080/"
        },
        "id": "edYk0Rdk0IPA",
        "outputId": "5cf9af78-bf2f-4297-b845-5615ec51ee37"
      },
      "outputs": [],
      "source": [
        "X_train_mask_ = [tokenizer(str(x), return_tensors='tf', max_length=MAX_LENGTH, truncation=True, pad_to_max_length=True, add_special_tokens=True)[\"attention_mask\"] for x in X_train]\n",
        "X_test_mask_ = [tokenizer(str(x), return_tensors='tf', max_length=MAX_LENGTH, truncation=True, pad_to_max_length=True, add_special_tokens=True)[\"attention_mask\"] for x in X_test]\n",
        "\n",
        "X_train_mask = tf.squeeze(tf.convert_to_tensor(X_train_mask_), axis=1)\n",
        "X_test_mask = tf.squeeze(tf.convert_to_tensor(X_test_mask_), axis=1)"
      ]
    },
    {
      "attachments": {},
      "cell_type": "markdown",
      "metadata": {
        "id": "bOx8Nr1iuK0D"
      },
      "source": [
        "Sada smo spremni da pustimo ulaze kroz model.\n",
        "Zatim je potrebno inicijalizovati GPT2 za TF i postaviti ga u režim obuke."
      ]
    },
    {
      "cell_type": "code",
      "execution_count": 54,
      "metadata": {
        "colab": {
          "base_uri": "https://localhost:8080/",
          "height": 118,
          "referenced_widgets": [
            "8a8f6f15d8754a82aee41b58e9591d8c",
            "4d54e0ad3264452ba0a1eaa3f9cac29f",
            "c1f0bb443ba549b288b1d6e8de38792e",
            "991821ed1e0846c3b16b1a0306e57e8b",
            "d67785040cf84061aa58ae283decae08",
            "775e002a79d841e5814ebad36c28dc8e",
            "6ce31c1666224039bdf7f4c3398bfca3",
            "afd17d38768540079b15aee78e31f6ef",
            "6248b33ac90c48a486ec591b970f3ad4",
            "6721812efc8d497eb6e4805fd196f5eb",
            "411fe9038aec4b93bed67fb493a32618"
          ]
        },
        "id": "kD4ws3zm5Zc8",
        "outputId": "aca0a09b-51c8-43e2-d040-70d1806bf221"
      },
      "outputs": [
        {
          "name": "stderr",
          "output_type": "stream",
          "text": [
            "All PyTorch model weights were used when initializing TFGPT2Model.\n",
            "\n",
            "All the weights of TFGPT2Model were initialized from the PyTorch model.\n",
            "If your task is similar to the task the model of the checkpoint was trained on, you can already use TFGPT2Model for predictions without further training.\n"
          ]
        }
      ],
      "source": [
        "model = TFGPT2Model.from_pretrained(\"gpt2\", use_cache=False,\n",
        "        pad_token_id=tokenizer.pad_token_id,\n",
        "        eos_token_id=tokenizer.eos_token_id)\n",
        "model.training = True"
      ]
    },
    {
      "cell_type": "code",
      "execution_count": 55,
      "metadata": {
        "colab": {
          "base_uri": "https://localhost:8080/"
        },
        "id": "nKkgOJV05X94",
        "outputId": "f9f81133-53cb-4762-8136-58794d0338fa"
      },
      "outputs": [
        {
          "data": {
            "text/plain": [
              "<keras.layers.core.embedding.Embedding at 0x1f4b6f45d90>"
            ]
          },
          "execution_count": 55,
          "metadata": {},
          "output_type": "execute_result"
        }
      ],
      "source": [
        "model.resize_token_embeddings(len(tokenizer))"
      ]
    },
    {
      "attachments": {},
      "cell_type": "markdown",
      "metadata": {
        "id": "K7z-q10mvA0d"
      },
      "source": [
        "Postavljamo prethodno obučene slojeve GPT2 kao \"non trainable\"."
      ]
    },
    {
      "cell_type": "code",
      "execution_count": 56,
      "metadata": {
        "id": "-O3PxYSNHyve"
      },
      "outputs": [],
      "source": [
        "for layer in model.layers:\n",
        "    layer.trainable = False"
      ]
    },
    {
      "cell_type": "code",
      "execution_count": 57,
      "metadata": {
        "colab": {
          "base_uri": "https://localhost:8080/"
        },
        "id": "Km2IJikE2sTm",
        "outputId": "35e18a47-8ad8-4e01-9e07-2809bd4b6938"
      },
      "outputs": [
        {
          "name": "stdout",
          "output_type": "stream",
          "text": [
            "Model: \"tfgpt2_model_1\"\n",
            "_________________________________________________________________\n",
            " Layer (type)                Output Shape              Param #   \n",
            "=================================================================\n",
            " transformer (TFGPT2MainLaye  multiple                 124440576 \n",
            " r)                                                              \n",
            "                                                                 \n",
            "=================================================================\n",
            "Total params: 124,440,576\n",
            "Trainable params: 0\n",
            "Non-trainable params: 124,440,576\n",
            "_________________________________________________________________\n"
          ]
        }
      ],
      "source": [
        "model.summary()"
      ]
    },
    {
      "attachments": {},
      "cell_type": "markdown",
      "metadata": {
        "id": "f_woWSvvvMdw"
      },
      "source": [
        "Zatim gradimo dodatne slojeve GPT2-a.\n",
        "Model prima tenzore tokena i maske. Izlazi su poslednja skrivena stanja poslednjeg sloja u transformatoru. Ova stanja se smanjuju koristeći srednju vrednost preko dužine sekvence, prolaze kroz 2 potpuno povezana sloja sa dropout-om između. Izlazni sloj ima dva čvora (softmax aktivaciona funkcija za verovatnoće) za dve klase koje želimo predvideti (Negativno i Pozitivno)."
      ]
    },
    {
      "cell_type": "code",
      "execution_count": 58,
      "metadata": {
        "id": "-kzjWN8yvAHj"
      },
      "outputs": [],
      "source": [
        "input = tf.keras.layers.Input(shape=(None,), dtype='int32')\n",
        "mask = tf.keras.layers.Input(shape=(None,), dtype='int32')\n",
        "x = model(input, attention_mask=mask)\n",
        "#x = x.last_hidden_state[:, -1]\n",
        "x = tf.reduce_mean(x.last_hidden_state, axis=1)\n",
        "x = tf.keras.layers.Dense(16, activation='relu')(x)\n",
        "x = tf.keras.layers.Dropout(0.3)(x)\n",
        "output = tf.keras.layers.Dense(2, activation='softmax')(x)"
      ]
    },
    {
      "cell_type": "code",
      "execution_count": 59,
      "metadata": {
        "id": "XZqhNq5u2fI5"
      },
      "outputs": [],
      "source": [
        "clf = tf.keras.Model([input, mask], output)"
      ]
    },
    {
      "cell_type": "code",
      "execution_count": 60,
      "metadata": {
        "colab": {
          "base_uri": "https://localhost:8080/"
        },
        "id": "YrFOc6oeI-dG",
        "outputId": "e8ead82d-fe3d-4d78-aa65-72ed7cf55617"
      },
      "outputs": [
        {
          "name": "stdout",
          "output_type": "stream",
          "text": [
            "Model: \"model_1\"\n",
            "__________________________________________________________________________________________________\n",
            " Layer (type)                   Output Shape         Param #     Connected to                     \n",
            "==================================================================================================\n",
            " input_3 (InputLayer)           [(None, None)]       0           []                               \n",
            "                                                                                                  \n",
            " input_4 (InputLayer)           [(None, None)]       0           []                               \n",
            "                                                                                                  \n",
            " tfgpt2_model_1 (TFGPT2Model)   TFBaseModelOutputWi  124440576   ['input_3[0][0]',                \n",
            "                                thPastAndCrossAtten               'input_4[0][0]']                \n",
            "                                tions(last_hidden_s                                               \n",
            "                                tate=(None, None, 7                                               \n",
            "                                68),                                                              \n",
            "                                 past_key_values=No                                               \n",
            "                                ne, hidden_states=N                                               \n",
            "                                one, attentions=Non                                               \n",
            "                                e, cross_attentions                                               \n",
            "                                =None)                                                            \n",
            "                                                                                                  \n",
            " tf.math.reduce_mean_1 (TFOpLam  (None, 768)         0           ['tfgpt2_model_1[0][0]']         \n",
            " bda)                                                                                             \n",
            "                                                                                                  \n",
            " dense_2 (Dense)                (None, 16)           12304       ['tf.math.reduce_mean_1[0][0]']  \n",
            "                                                                                                  \n",
            " dropout_75 (Dropout)           (None, 16)           0           ['dense_2[0][0]']                \n",
            "                                                                                                  \n",
            " dense_3 (Dense)                (None, 2)            34          ['dropout_75[0][0]']             \n",
            "                                                                                                  \n",
            "==================================================================================================\n",
            "Total params: 124,452,914\n",
            "Trainable params: 12,338\n",
            "Non-trainable params: 124,440,576\n",
            "__________________________________________________________________________________________________\n"
          ]
        }
      ],
      "source": [
        "clf.summary()"
      ]
    },
    {
      "attachments": {},
      "cell_type": "markdown",
      "metadata": {
        "id": "FJqkOZqJyGT7"
      },
      "source": [
        "Zatim kompajliramo model birajući learning rate, loss function i metriku za praćenje."
      ]
    },
    {
      "cell_type": "code",
      "execution_count": 61,
      "metadata": {
        "id": "X4KrjE58_Ela"
      },
      "outputs": [],
      "source": [
        "base_learning_rate = 0.0005\n",
        "optimizer=tf.keras.optimizers.Adam(learning_rate=base_learning_rate)\n",
        "#loss=tf.keras.losses.BinaryCrossentropy()\n",
        "loss=tf.keras.losses.SparseCategoricalCrossentropy()\n",
        "\n",
        "clf.compile(optimizer=optimizer, loss=loss, metrics=['accuracy'])"
      ]
    },
    {
      "cell_type": "code",
      "execution_count": 62,
      "metadata": {
        "id": "HD2ppmZVqwQf"
      },
      "outputs": [],
      "source": [
        "callbacks = tf.keras.callbacks.EarlyStopping(\n",
        "        monitor=\"val_accuracy\", verbose=1, patience=10, restore_best_weights=True)"
      ]
    },
    {
      "attachments": {},
      "cell_type": "markdown",
      "metadata": {
        "id": "GxEzyIoHyisD"
      },
      "source": [
        "Poslednja stvar koju je potrebno uraditi je pripremiti ciljni tenzor."
      ]
    },
    {
      "cell_type": "code",
      "execution_count": 63,
      "metadata": {
        "id": "ehe1Rjir3qlD"
      },
      "outputs": [],
      "source": [
        "def map_sentiment(value):\n",
        "  if value == 'Negative':\n",
        "    return 0\n",
        "  if value == 'Positive':\n",
        "    return 1"
      ]
    },
    {
      "cell_type": "code",
      "execution_count": 64,
      "metadata": {
        "id": "WMSKFwIu1E-1"
      },
      "outputs": [],
      "source": [
        "y_train_ = y_train.map(map_sentiment)\n",
        "y_test_ = y_test.map(map_sentiment)"
      ]
    },
    {
      "cell_type": "code",
      "execution_count": 65,
      "metadata": {
        "id": "NI407MGy4QKA"
      },
      "outputs": [],
      "source": [
        "y_train_in = tf.constant(y_train_, dtype=tf.int32)\n",
        "y_test_in = tf.constant(y_test_, dtype=tf.int32)"
      ]
    },
    {
      "cell_type": "code",
      "execution_count": 66,
      "metadata": {
        "colab": {
          "base_uri": "https://localhost:8080/"
        },
        "id": "ShQqGADWOcJe",
        "outputId": "cc0490c5-c566-4199-9ff9-50a2f28ba616"
      },
      "outputs": [],
      "source": [
        "tf.config.experimental_run_functions_eagerly(True)"
      ]
    },
    {
      "attachments": {},
      "cell_type": "markdown",
      "metadata": {
        "id": "ydGFl-GJytDf"
      },
      "source": [
        "Zatim treniramo model tako što prosleđujemo broj epoha, veličinu batch-a i udeo za validaciju."
      ]
    },
    {
      "cell_type": "code",
      "execution_count": 67,
      "metadata": {
        "colab": {
          "base_uri": "https://localhost:8080/"
        },
        "id": "2zHHlvvpBoBU",
        "outputId": "bd85ba61-7d1f-499c-f9e6-7fb3c583db2e"
      },
      "outputs": [
        {
          "name": "stdout",
          "output_type": "stream",
          "text": [
            "Epoch 1/50\n"
          ]
        },
        {
          "name": "stderr",
          "output_type": "stream",
          "text": [
            "c:\\Users\\stevan.grujic\\AppData\\Local\\Programs\\Python\\Python311\\Lib\\site-packages\\tensorflow\\python\\data\\ops\\structured_function.py:254: UserWarning: Even though the `tf.config.experimental_run_functions_eagerly` option is set, this option does not apply to tf.data functions. To force eager execution of tf.data functions, please use `tf.data.experimental.enable_debug_mode()`.\n",
            "  warnings.warn(\n"
          ]
        },
        {
          "name": "stdout",
          "output_type": "stream",
          "text": [
            "26/26 [==============================] - 131s 5s/step - loss: 6.4215 - accuracy: 0.4242 - val_loss: 1.2975 - val_accuracy: 0.3659\n",
            "Epoch 2/50\n",
            "26/26 [==============================] - 133s 5s/step - loss: 1.9280 - accuracy: 0.5086 - val_loss: 0.8033 - val_accuracy: 0.6390\n",
            "Epoch 3/50\n",
            "26/26 [==============================] - 122s 5s/step - loss: 1.2943 - accuracy: 0.5660 - val_loss: 0.6513 - val_accuracy: 0.6195\n",
            "Epoch 4/50\n",
            "26/26 [==============================] - 122s 5s/step - loss: 1.0647 - accuracy: 0.5648 - val_loss: 0.6419 - val_accuracy: 0.6537\n",
            "Epoch 5/50\n",
            "26/26 [==============================] - 124s 5s/step - loss: 0.8843 - accuracy: 0.5440 - val_loss: 0.6250 - val_accuracy: 0.6439\n",
            "Epoch 6/50\n",
            "26/26 [==============================] - 129s 5s/step - loss: 0.7624 - accuracy: 0.5538 - val_loss: 0.6247 - val_accuracy: 0.6488\n",
            "Epoch 7/50\n",
            "26/26 [==============================] - 131s 5s/step - loss: 0.6799 - accuracy: 0.5758 - val_loss: 0.6335 - val_accuracy: 0.6293\n",
            "Epoch 8/50\n",
            "26/26 [==============================] - 134s 5s/step - loss: 0.6591 - accuracy: 0.6186 - val_loss: 0.6360 - val_accuracy: 0.6244\n",
            "Epoch 9/50\n",
            "26/26 [==============================] - 129s 5s/step - loss: 0.6538 - accuracy: 0.6198 - val_loss: 0.6333 - val_accuracy: 0.6244\n",
            "Epoch 10/50\n",
            "26/26 [==============================] - 120s 5s/step - loss: 0.6438 - accuracy: 0.6247 - val_loss: 0.6356 - val_accuracy: 0.6195\n",
            "Epoch 11/50\n",
            "26/26 [==============================] - 118s 5s/step - loss: 0.6402 - accuracy: 0.6333 - val_loss: 0.6329 - val_accuracy: 0.6341\n",
            "Epoch 12/50\n",
            "26/26 [==============================] - 119s 5s/step - loss: 0.6348 - accuracy: 0.6381 - val_loss: 0.6203 - val_accuracy: 0.6439\n",
            "Epoch 13/50\n",
            "26/26 [==============================] - 118s 5s/step - loss: 0.6416 - accuracy: 0.6369 - val_loss: 0.6184 - val_accuracy: 0.6488\n",
            "Epoch 14/50\n",
            "26/26 [==============================] - 118s 5s/step - loss: 0.6184 - accuracy: 0.6650 - val_loss: 0.6279 - val_accuracy: 0.6927\n",
            "Epoch 15/50\n",
            "26/26 [==============================] - 118s 5s/step - loss: 0.6353 - accuracy: 0.6308 - val_loss: 0.6119 - val_accuracy: 0.6439\n",
            "Epoch 16/50\n",
            "26/26 [==============================] - 119s 5s/step - loss: 0.6139 - accuracy: 0.6675 - val_loss: 0.6210 - val_accuracy: 0.6878\n",
            "Epoch 17/50\n",
            "26/26 [==============================] - 118s 5s/step - loss: 0.6233 - accuracy: 0.6491 - val_loss: 0.6076 - val_accuracy: 0.6341\n",
            "Epoch 18/50\n",
            "26/26 [==============================] - 118s 5s/step - loss: 0.6036 - accuracy: 0.6846 - val_loss: 0.6158 - val_accuracy: 0.6878\n",
            "Epoch 19/50\n",
            "26/26 [==============================] - 118s 5s/step - loss: 0.6139 - accuracy: 0.6589 - val_loss: 0.6061 - val_accuracy: 0.6878\n",
            "Epoch 20/50\n",
            "26/26 [==============================] - 118s 5s/step - loss: 0.6050 - accuracy: 0.6748 - val_loss: 0.6035 - val_accuracy: 0.6878\n",
            "Epoch 21/50\n",
            "26/26 [==============================] - 117s 5s/step - loss: 0.6115 - accuracy: 0.6565 - val_loss: 0.5949 - val_accuracy: 0.6488\n",
            "Epoch 22/50\n",
            "26/26 [==============================] - 118s 5s/step - loss: 0.6048 - accuracy: 0.6699 - val_loss: 0.5929 - val_accuracy: 0.6780\n",
            "Epoch 23/50\n",
            "26/26 [==============================] - 118s 5s/step - loss: 0.6016 - accuracy: 0.6895 - val_loss: 0.5907 - val_accuracy: 0.6829\n",
            "Epoch 24/50\n",
            "26/26 [==============================] - 118s 5s/step - loss: 0.5823 - accuracy: 0.6993 - val_loss: 0.5933 - val_accuracy: 0.7122\n",
            "Epoch 25/50\n",
            "26/26 [==============================] - 117s 5s/step - loss: 0.5934 - accuracy: 0.6797 - val_loss: 0.5859 - val_accuracy: 0.6927\n",
            "Epoch 26/50\n",
            "26/26 [==============================] - 118s 5s/step - loss: 0.5818 - accuracy: 0.6870 - val_loss: 0.5821 - val_accuracy: 0.6829\n",
            "Epoch 27/50\n",
            "26/26 [==============================] - 118s 5s/step - loss: 0.5706 - accuracy: 0.6993 - val_loss: 0.5785 - val_accuracy: 0.7122\n",
            "Epoch 28/50\n",
            "26/26 [==============================] - 118s 5s/step - loss: 0.5847 - accuracy: 0.6760 - val_loss: 0.5747 - val_accuracy: 0.6927\n",
            "Epoch 29/50\n",
            "26/26 [==============================] - 120s 5s/step - loss: 0.5664 - accuracy: 0.7029 - val_loss: 0.5845 - val_accuracy: 0.7122\n",
            "Epoch 30/50\n",
            "26/26 [==============================] - 131s 5s/step - loss: 0.5895 - accuracy: 0.6736 - val_loss: 0.5764 - val_accuracy: 0.7171\n",
            "Epoch 31/50\n",
            "26/26 [==============================] - 142s 5s/step - loss: 0.5723 - accuracy: 0.6968 - val_loss: 0.5672 - val_accuracy: 0.6829\n",
            "Epoch 32/50\n",
            "26/26 [==============================] - 143s 6s/step - loss: 0.5710 - accuracy: 0.7103 - val_loss: 0.5707 - val_accuracy: 0.7220\n",
            "Epoch 33/50\n",
            "26/26 [==============================] - 141s 5s/step - loss: 0.5664 - accuracy: 0.7090 - val_loss: 0.5619 - val_accuracy: 0.6878\n",
            "Epoch 34/50\n",
            "26/26 [==============================] - 133s 5s/step - loss: 0.5647 - accuracy: 0.7103 - val_loss: 0.5570 - val_accuracy: 0.7024\n",
            "Epoch 35/50\n",
            "26/26 [==============================] - 137s 5s/step - loss: 0.5605 - accuracy: 0.7090 - val_loss: 0.5577 - val_accuracy: 0.7220\n",
            "Epoch 36/50\n",
            "26/26 [==============================] - 135s 5s/step - loss: 0.5664 - accuracy: 0.6944 - val_loss: 0.5561 - val_accuracy: 0.6878\n",
            "Epoch 37/50\n",
            "26/26 [==============================] - 159s 6s/step - loss: 0.5605 - accuracy: 0.6870 - val_loss: 0.5532 - val_accuracy: 0.7220\n",
            "Epoch 38/50\n",
            "26/26 [==============================] - 135s 5s/step - loss: 0.5464 - accuracy: 0.7054 - val_loss: 0.5495 - val_accuracy: 0.7024\n",
            "Epoch 39/50\n",
            "26/26 [==============================] - 149s 6s/step - loss: 0.5489 - accuracy: 0.7042 - val_loss: 0.5507 - val_accuracy: 0.6878\n",
            "Epoch 40/50\n",
            "26/26 [==============================] - 157s 6s/step - loss: 0.5506 - accuracy: 0.7017 - val_loss: 0.5458 - val_accuracy: 0.7415\n",
            "Epoch 41/50\n",
            "26/26 [==============================] - 154s 6s/step - loss: 0.5476 - accuracy: 0.7066 - val_loss: 0.5404 - val_accuracy: 0.7171\n",
            "Epoch 42/50\n",
            "26/26 [==============================] - 150s 6s/step - loss: 0.5297 - accuracy: 0.7323 - val_loss: 0.5410 - val_accuracy: 0.7024\n",
            "Epoch 43/50\n",
            "26/26 [==============================] - 150s 6s/step - loss: 0.5479 - accuracy: 0.7078 - val_loss: 0.5427 - val_accuracy: 0.7610\n",
            "Epoch 44/50\n",
            "26/26 [==============================] - 139s 5s/step - loss: 0.5363 - accuracy: 0.7078 - val_loss: 0.5289 - val_accuracy: 0.7220\n",
            "Epoch 45/50\n",
            "26/26 [==============================] - 118s 5s/step - loss: 0.5424 - accuracy: 0.7078 - val_loss: 0.5402 - val_accuracy: 0.7024\n",
            "Epoch 46/50\n",
            "26/26 [==============================] - 123s 5s/step - loss: 0.5363 - accuracy: 0.7213 - val_loss: 0.5376 - val_accuracy: 0.7122\n",
            "Epoch 47/50\n",
            "26/26 [==============================] - 156s 6s/step - loss: 0.5168 - accuracy: 0.7286 - val_loss: 0.5369 - val_accuracy: 0.7220\n",
            "Epoch 48/50\n",
            "26/26 [==============================] - 157s 6s/step - loss: 0.5222 - accuracy: 0.7286 - val_loss: 0.5364 - val_accuracy: 0.7463\n",
            "Epoch 49/50\n",
            "26/26 [==============================] - 156s 6s/step - loss: 0.5202 - accuracy: 0.7237 - val_loss: 0.5340 - val_accuracy: 0.7561\n",
            "Epoch 50/50\n",
            "26/26 [==============================] - 161s 6s/step - loss: 0.5280 - accuracy: 0.7213 - val_loss: 0.5281 - val_accuracy: 0.7659\n"
          ]
        }
      ],
      "source": [
        "history = clf.fit([X_train_in, X_train_mask], y_train_in, epochs=50, batch_size=32, validation_split=0.2, callbacks=callbacks)"
      ]
    },
    {
      "cell_type": "code",
      "execution_count": 85,
      "metadata": {},
      "outputs": [
        {
          "data": {
            "image/png": "[encoded data removed]",
            "text/plain": [
              "<Figure size 640x480 with 1 Axes>"
            ]
          },
          "metadata": {},
          "output_type": "display_data"
        }
      ],
      "source": [
        "fig = plt.figure()\n",
        "plt.subplot(2,1,1)\n",
        "plt.plot(history.history['accuracy'])\n",
        "plt.plot(history.history['val_accuracy'])\n",
        "plt.title('Model Accuracy')\n",
        "plt.ylabel('Accuracy')\n",
        "plt.xlabel('Epochs')\n",
        "plt.legend(['Train', 'Test'], loc='lower right');"
      ]
    },
    {
      "cell_type": "code",
      "execution_count": 89,
      "metadata": {},
      "outputs": [
        {
          "data": {
            "image/png": "[encoded data removed]",
            "text/plain": [
              "<Figure size 640x480 with 1 Axes>"
            ]
          },
          "metadata": {},
          "output_type": "display_data"
        }
      ],
      "source": [
        "fig = plt.figure()\n",
        "plt.subplot(2,1,1)\n",
        "plt.plot(history.history['loss'])\n",
        "plt.plot(history.history['val_loss'])\n",
        "plt.title('Model Accuracy')\n",
        "plt.ylabel('Accuracy')\n",
        "plt.xlabel('Epochs')\n",
        "plt.legend(['Train', 'Test'], loc='upper right');"
      ]
    },
    {
      "attachments": {},
      "cell_type": "markdown",
      "metadata": {
        "id": "oL_gByEIzIDO"
      },
      "source": [
        "Sada možemo evaluirati model na testnom skupu."
      ]
    },
    {
      "cell_type": "code",
      "execution_count": 68,
      "metadata": {
        "colab": {
          "base_uri": "https://localhost:8080/"
        },
        "id": "S_f16u8TB6t9",
        "outputId": "3ec64c4e-4e80-4573-e54f-eb6edb08e3c1"
      },
      "outputs": [
        {
          "name": "stdout",
          "output_type": "stream",
          "text": [
            "11/11 [==============================] - 21s 2s/step - loss: 0.5580 - accuracy: 0.7038\n"
          ]
        },
        {
          "data": {
            "text/plain": [
              "[0.5580079555511475, 0.703812301158905]"
            ]
          },
          "execution_count": 68,
          "metadata": {},
          "output_type": "execute_result"
        }
      ],
      "source": [
        "clf.evaluate([X_test_in, X_test_mask], y_test_in)"
      ]
    },
    {
      "cell_type": "code",
      "execution_count": 69,
      "metadata": {
        "colab": {
          "base_uri": "https://localhost:8080/"
        },
        "id": "5nscIr_bltNY",
        "outputId": "e1102873-3e01-42f9-f424-d30c13d13378"
      },
      "outputs": [
        {
          "name": "stdout",
          "output_type": "stream",
          "text": [
            "11/11 [==============================] - 21s 2s/step\n"
          ]
        }
      ],
      "source": [
        "clf.training = False\n",
        "y_pred = clf.predict([X_test_in, X_test_mask])"
      ]
    },
    {
      "cell_type": "code",
      "execution_count": 70,
      "metadata": {
        "colab": {
          "base_uri": "https://localhost:8080/"
        },
        "id": "OT4Av95jmpUt",
        "outputId": "917d0a6f-0883-4b0c-cc16-01a33f836c4a"
      },
      "outputs": [
        {
          "data": {
            "text/plain": [
              "<tf.Tensor: shape=(341,), dtype=int64, numpy=\n",
              "array([1, 1, 1, 0, 0, 1, 1, 1, 1, 0, 1, 0, 1, 1, 1, 1, 1, 0, 1, 1, 1, 0,\n",
              "       1, 1, 1, 1, 0, 0, 0, 0, 1, 0, 0, 1, 1, 0, 0, 1, 1, 0, 1, 1, 0, 0,\n",
              "       1, 0, 1, 0, 1, 0, 0, 1, 1, 0, 0, 1, 1, 1, 1, 1, 0, 0, 0, 0, 1, 0,\n",
              "       1, 1, 1, 1, 0, 1, 1, 0, 1, 1, 0, 1, 1, 0, 1, 1, 0, 1, 1, 1, 1, 0,\n",
              "       1, 0, 1, 1, 1, 1, 0, 1, 1, 1, 1, 1, 1, 1, 0, 0, 0, 1, 1, 0, 0, 0,\n",
              "       0, 1, 1, 0, 1, 1, 1, 1, 1, 1, 1, 1, 1, 1, 1, 1, 1, 1, 1, 1, 1, 0,\n",
              "       1, 1, 1, 0, 1, 0, 0, 1, 0, 0, 1, 1, 1, 0, 0, 1, 1, 1, 1, 1, 1, 1,\n",
              "       1, 1, 1, 1, 0, 1, 0, 1, 1, 1, 0, 1, 1, 1, 1, 0, 0, 0, 0, 1, 0, 0,\n",
              "       1, 1, 0, 1, 0, 1, 0, 0, 1, 0, 1, 0, 1, 0, 0, 1, 1, 1, 1, 0, 0, 0,\n",
              "       1, 0, 1, 1, 1, 1, 1, 0, 1, 1, 0, 1, 1, 0, 1, 1, 1, 0, 0, 1, 1, 0,\n",
              "       1, 1, 1, 1, 0, 0, 0, 0, 0, 1, 0, 1, 1, 0, 0, 0, 1, 1, 1, 1, 1, 1,\n",
              "       0, 1, 0, 1, 1, 0, 1, 1, 1, 0, 1, 1, 0, 1, 0, 1, 1, 0, 1, 0, 1, 1,\n",
              "       1, 0, 1, 0, 1, 1, 0, 1, 0, 1, 0, 0, 1, 0, 1, 1, 1, 1, 0, 1, 0, 1,\n",
              "       1, 0, 1, 0, 1, 1, 0, 1, 0, 0, 1, 1, 1, 0, 1, 1, 1, 1, 0, 1, 1, 1,\n",
              "       0, 0, 1, 0, 1, 0, 0, 1, 1, 0, 0, 1, 1, 1, 1, 0, 1, 1, 0, 1, 0, 1,\n",
              "       1, 1, 0, 0, 1, 1, 1, 1, 1, 0, 1], dtype=int64)>"
            ]
          },
          "execution_count": 70,
          "metadata": {},
          "output_type": "execute_result"
        }
      ],
      "source": [
        "y_pred_out = tf.math.argmax(y_pred, axis=-1)\n",
        "y_pred_out"
      ]
    },
    {
      "attachments": {},
      "cell_type": "markdown",
      "metadata": {
        "id": "CJiVWYjBz-fF"
      },
      "source": [
        "Sada možemo evaluirati model na testnom skupu koristeći izveštaj klasifikacije (classification report) i matricu konfuzije (confusion matrix)."
      ]
    },
    {
      "cell_type": "code",
      "execution_count": 72,
      "metadata": {
        "colab": {
          "base_uri": "https://localhost:8080/"
        },
        "id": "LBHhKseWiMFg",
        "outputId": "f2b27ce8-1f85-4036-abc0-9b5d49b5cc5f"
      },
      "outputs": [
        {
          "name": "stdout",
          "output_type": "stream",
          "text": [
            "              precision    recall  f1-score   support\n",
            "\n",
            "           0       0.63      0.59      0.61       134\n",
            "           1       0.75      0.78      0.76       207\n",
            "\n",
            "    accuracy                           0.70       341\n",
            "   macro avg       0.69      0.68      0.69       341\n",
            "weighted avg       0.70      0.70      0.70       341\n",
            "\n"
          ]
        }
      ],
      "source": [
        "print(classification_report(y_test_in, y_pred_out))"
      ]
    },
    {
      "attachments": {},
      "cell_type": "markdown",
      "metadata": {
        "id": "0K1-fYGc1wXP"
      },
      "source": [
        "Primjećujemo odmah da model, u celini, ima dobru preciznost i odziv za sve klase. Model ima više poteškoća u predviđanju negativne klase (0), posebno u odzivu.\n",
        "\n",
        "Od svih predviđenih negativnih, 60% su zaista negativni - model ima pristojnu preciznost. Od svih koji su zaista negativni, samo 56% je predviđeno kao negativno - model ima poteškoća u prepoznavanju (odzivu) negativne klase.\n",
        "\n",
        "Ispod se nalazi matrica konfuzije koja pomaže boljem razumijevanju situacije."
      ]
    },
    {
      "cell_type": "code",
      "execution_count": 74,
      "metadata": {
        "colab": {
          "base_uri": "https://localhost:8080/",
          "height": 143
        },
        "id": "at565HvhlV5w",
        "outputId": "d8d958db-7364-4d5b-d1da-f753bfd04885"
      },
      "outputs": [
        {
          "data": {
            "text/html": [
              "<div>\n",
              "<style scoped>\n",
              "    .dataframe tbody tr th:only-of-type {\n",
              "        vertical-align: middle;\n",
              "    }\n",
              "\n",
              "    .dataframe tbody tr th {\n",
              "        vertical-align: top;\n",
              "    }\n",
              "\n",
              "    .dataframe thead th {\n",
              "        text-align: right;\n",
              "    }\n",
              "</style>\n",
              "<table border=\"1\" class=\"dataframe\">\n",
              "  <thead>\n",
              "    <tr style=\"text-align: right;\">\n",
              "      <th></th>\n",
              "      <th>Predicted 0</th>\n",
              "      <th>Predicted 1</th>\n",
              "    </tr>\n",
              "  </thead>\n",
              "  <tbody>\n",
              "    <tr>\n",
              "      <th>Actual 0</th>\n",
              "      <td>79</td>\n",
              "      <td>55</td>\n",
              "    </tr>\n",
              "    <tr>\n",
              "      <th>Actual 1</th>\n",
              "      <td>46</td>\n",
              "      <td>161</td>\n",
              "    </tr>\n",
              "  </tbody>\n",
              "</table>\n",
              "</div>"
            ],
            "text/plain": [
              "          Predicted 0  Predicted 1\n",
              "Actual 0           79           55\n",
              "Actual 1           46          161"
            ]
          },
          "execution_count": 74,
          "metadata": {},
          "output_type": "execute_result"
        }
      ],
      "source": [
        "confusion_df = pd.DataFrame(confusion_matrix(y_test_in, y_pred_out))\n",
        "confusion_df.index = ['Actual 0', 'Actual 1']\n",
        "confusion_df.columns = ['Predicted 0', 'Predicted 1']\n",
        "confusion_df"
      ]
    },
    {
      "cell_type": "code",
      "execution_count": 75,
      "metadata": {
        "colab": {
          "base_uri": "https://localhost:8080/",
          "height": 522
        },
        "id": "FDZUeFX8lW_n",
        "outputId": "f2ac829a-f6f0-435d-9b37-e87ba7807021"
      },
      "outputs": [
        {
          "data": {
            "image/png": "[encoded data removed]",
            "text/plain": [
              "<Figure size 1200x800 with 2 Axes>"
            ]
          },
          "metadata": {},
          "output_type": "display_data"
        }
      ],
      "source": [
        "plt.figure(figsize=(12, 8))\n",
        "sns.heatmap(confusion_df, annot=True, fmt='d', linewidths=0.5) \n",
        "plt.yticks(rotation=0)\n",
        "plt.xticks(rotation=45)\n",
        "plt.show()"
      ]
    },
    {
      "attachments": {},
      "cell_type": "markdown",
      "metadata": {
        "id": "y3Ekf7G12UmA"
      },
      "source": [
        "Detaljan opis rada nalazi se u teorijskom delu projekta."
      ]
    }
  ],
  "metadata": {
    "colab": {
      "authorship_tag": "ABX9TyOoJp4fdsz7GTJ1uMG3E8Lg",
      "collapsed_sections": [],
      "include_colab_link": true,
      "name": "GPT2_Transfer Learning_final.ipynb",
      "provenance": []
    },
    "kernelspec": {
      "display_name": "Python 3",
      "name": "python3"
    },
    "language_info": {
      "codemirror_mode": {
        "name": "ipython",
        "version": 3
      },
      "file_extension": ".py",
      "mimetype": "text/x-python",
      "name": "python",
      "nbconvert_exporter": "python",
      "pygments_lexer": "ipython3",
      "version": "3.11.4"
    },
    "widgets": {
      "application/vnd.jupyter.widget-state+json": {
        "21566811379146c8b55caf7b0a9c5b27": {
          "model_module": "@jupyter-widgets/controls",
          "model_module_version": "1.5.0",
          "model_name": "FloatProgressModel",
          "state": {
            "_dom_classes": [],
            "_model_module": "@jupyter-widgets/controls",
            "_model_module_version": "1.5.0",
            "_model_name": "FloatProgressModel",
            "_view_count": null,
            "_view_module": "@jupyter-widgets/controls",
            "_view_module_version": "1.5.0",
            "_view_name": "ProgressView",
            "bar_style": "success",
            "description": "",
            "description_tooltip": null,
            "layout": "IPY_MODEL_7dc0ed7811c846b2bf71e8b4e938a0ae",
            "max": 1042301,
            "min": 0,
            "orientation": "horizontal",
            "style": "IPY_MODEL_4ba8ac9b9cc14acca878c21c0e7072d5",
            "value": 1042301
          }
        },
        "2395423f62884341b2abca5418552ecf": {
          "model_module": "@jupyter-widgets/controls",
          "model_module_version": "1.5.0",
          "model_name": "HTMLModel",
          "state": {
            "_dom_classes": [],
            "_model_module": "@jupyter-widgets/controls",
            "_model_module_version": "1.5.0",
            "_model_name": "HTMLModel",
            "_view_count": null,
            "_view_module": "@jupyter-widgets/controls",
            "_view_module_version": "1.5.0",
            "_view_name": "HTMLView",
            "description": "",
            "description_tooltip": null,
            "layout": "IPY_MODEL_6e9eb2f64a504f908d3e6928e4303353",
            "placeholder": "​",
            "style": "IPY_MODEL_ea6fb84bd978400c89d313411bdd23db",
            "value": "Downloading: 100%"
          }
        },
        "306a492a3c8a47ea9bacd9910978bea9": {
          "model_module": "@jupyter-widgets/base",
          "model_module_version": "1.2.0",
          "model_name": "LayoutModel",
          "state": {
            "_model_module": "@jupyter-widgets/base",
            "_model_module_version": "1.2.0",
            "_model_name": "LayoutModel",
            "_view_count": null,
            "_view_module": "@jupyter-widgets/base",
            "_view_module_version": "1.2.0",
            "_view_name": "LayoutView",
            "align_content": null,
            "align_items": null,
            "align_self": null,
            "border": null,
            "bottom": null,
            "display": null,
            "flex": null,
            "flex_flow": null,
            "grid_area": null,
            "grid_auto_columns": null,
            "grid_auto_flow": null,
            "grid_auto_rows": null,
            "grid_column": null,
            "grid_gap": null,
            "grid_row": null,
            "grid_template_areas": null,
            "grid_template_columns": null,
            "grid_template_rows": null,
            "height": null,
            "justify_content": null,
            "justify_items": null,
            "left": null,
            "margin": null,
            "max_height": null,
            "max_width": null,
            "min_height": null,
            "min_width": null,
            "object_fit": null,
            "object_position": null,
            "order": null,
            "overflow": null,
            "overflow_x": null,
            "overflow_y": null,
            "padding": null,
            "right": null,
            "top": null,
            "visibility": null,
            "width": null
          }
        },
        "32bd62bd982a42ad8910bfea5142b583": {
          "model_module": "@jupyter-widgets/base",
          "model_module_version": "1.2.0",
          "model_name": "LayoutModel",
          "state": {
            "_model_module": "@jupyter-widgets/base",
            "_model_module_version": "1.2.0",
            "_model_name": "LayoutModel",
            "_view_count": null,
            "_view_module": "@jupyter-widgets/base",
            "_view_module_version": "1.2.0",
            "_view_name": "LayoutView",
            "align_content": null,
            "align_items": null,
            "align_self": null,
            "border": null,
            "bottom": null,
            "display": null,
            "flex": null,
            "flex_flow": null,
            "grid_area": null,
            "grid_auto_columns": null,
            "grid_auto_flow": null,
            "grid_auto_rows": null,
            "grid_column": null,
            "grid_gap": null,
            "grid_row": null,
            "grid_template_areas": null,
            "grid_template_columns": null,
            "grid_template_rows": null,
            "height": null,
            "justify_content": null,
            "justify_items": null,
            "left": null,
            "margin": null,
            "max_height": null,
            "max_width": null,
            "min_height": null,
            "min_width": null,
            "object_fit": null,
            "object_position": null,
            "order": null,
            "overflow": null,
            "overflow_x": null,
            "overflow_y": null,
            "padding": null,
            "right": null,
            "top": null,
            "visibility": null,
            "width": null
          }
        },
        "34b011e3fc354d7eb5073d3700ba917a": {
          "model_module": "@jupyter-widgets/base",
          "model_module_version": "1.2.0",
          "model_name": "LayoutModel",
          "state": {
            "_model_module": "@jupyter-widgets/base",
            "_model_module_version": "1.2.0",
            "_model_name": "LayoutModel",
            "_view_count": null,
            "_view_module": "@jupyter-widgets/base",
            "_view_module_version": "1.2.0",
            "_view_name": "LayoutView",
            "align_content": null,
            "align_items": null,
            "align_self": null,
            "border": null,
            "bottom": null,
            "display": null,
            "flex": null,
            "flex_flow": null,
            "grid_area": null,
            "grid_auto_columns": null,
            "grid_auto_flow": null,
            "grid_auto_rows": null,
            "grid_column": null,
            "grid_gap": null,
            "grid_row": null,
            "grid_template_areas": null,
            "grid_template_columns": null,
            "grid_template_rows": null,
            "height": null,
            "justify_content": null,
            "justify_items": null,
            "left": null,
            "margin": null,
            "max_height": null,
            "max_width": null,
            "min_height": null,
            "min_width": null,
            "object_fit": null,
            "object_position": null,
            "order": null,
            "overflow": null,
            "overflow_x": null,
            "overflow_y": null,
            "padding": null,
            "right": null,
            "top": null,
            "visibility": null,
            "width": null
          }
        },
        "40f0381f1e41421db0950145689872a9": {
          "model_module": "@jupyter-widgets/controls",
          "model_module_version": "1.5.0",
          "model_name": "DescriptionStyleModel",
          "state": {
            "_model_module": "@jupyter-widgets/controls",
            "_model_module_version": "1.5.0",
            "_model_name": "DescriptionStyleModel",
            "_view_count": null,
            "_view_module": "@jupyter-widgets/base",
            "_view_module_version": "1.2.0",
            "_view_name": "StyleView",
            "description_width": ""
          }
        },
        "411fe9038aec4b93bed67fb493a32618": {
          "model_module": "@jupyter-widgets/controls",
          "model_module_version": "1.5.0",
          "model_name": "DescriptionStyleModel",
          "state": {
            "_model_module": "@jupyter-widgets/controls",
            "_model_module_version": "1.5.0",
            "_model_name": "DescriptionStyleModel",
            "_view_count": null,
            "_view_module": "@jupyter-widgets/base",
            "_view_module_version": "1.2.0",
            "_view_name": "StyleView",
            "description_width": ""
          }
        },
        "4ba8ac9b9cc14acca878c21c0e7072d5": {
          "model_module": "@jupyter-widgets/controls",
          "model_module_version": "1.5.0",
          "model_name": "ProgressStyleModel",
          "state": {
            "_model_module": "@jupyter-widgets/controls",
            "_model_module_version": "1.5.0",
            "_model_name": "ProgressStyleModel",
            "_view_count": null,
            "_view_module": "@jupyter-widgets/base",
            "_view_module_version": "1.2.0",
            "_view_name": "StyleView",
            "bar_color": null,
            "description_width": ""
          }
        },
        "4d54e0ad3264452ba0a1eaa3f9cac29f": {
          "model_module": "@jupyter-widgets/controls",
          "model_module_version": "1.5.0",
          "model_name": "HTMLModel",
          "state": {
            "_dom_classes": [],
            "_model_module": "@jupyter-widgets/controls",
            "_model_module_version": "1.5.0",
            "_model_name": "HTMLModel",
            "_view_count": null,
            "_view_module": "@jupyter-widgets/controls",
            "_view_module_version": "1.5.0",
            "_view_name": "HTMLView",
            "description": "",
            "description_tooltip": null,
            "layout": "IPY_MODEL_775e002a79d841e5814ebad36c28dc8e",
            "placeholder": "​",
            "style": "IPY_MODEL_6ce31c1666224039bdf7f4c3398bfca3",
            "value": "Downloading: 100%"
          }
        },
        "5125f72fff9e41cb9ecb0fc108e589c9": {
          "model_module": "@jupyter-widgets/controls",
          "model_module_version": "1.5.0",
          "model_name": "ProgressStyleModel",
          "state": {
            "_model_module": "@jupyter-widgets/controls",
            "_model_module_version": "1.5.0",
            "_model_name": "ProgressStyleModel",
            "_view_count": null,
            "_view_module": "@jupyter-widgets/base",
            "_view_module_version": "1.2.0",
            "_view_name": "StyleView",
            "bar_color": null,
            "description_width": ""
          }
        },
        "5221c7c45d0046b99285d0dff6a801b0": {
          "model_module": "@jupyter-widgets/controls",
          "model_module_version": "1.5.0",
          "model_name": "HTMLModel",
          "state": {
            "_dom_classes": [],
            "_model_module": "@jupyter-widgets/controls",
            "_model_module_version": "1.5.0",
            "_model_name": "HTMLModel",
            "_view_count": null,
            "_view_module": "@jupyter-widgets/controls",
            "_view_module_version": "1.5.0",
            "_view_name": "HTMLView",
            "description": "",
            "description_tooltip": null,
            "layout": "IPY_MODEL_dbc56bed04ce46b99494f2fa3ea6effc",
            "placeholder": "​",
            "style": "IPY_MODEL_5a4c92e4b3b644d4a47ba20ae282c1ae",
            "value": " 446k/446k [00:00&lt;00:00, 6.68kB/s]"
          }
        },
        "5a4c92e4b3b644d4a47ba20ae282c1ae": {
          "model_module": "@jupyter-widgets/controls",
          "model_module_version": "1.5.0",
          "model_name": "DescriptionStyleModel",
          "state": {
            "_model_module": "@jupyter-widgets/controls",
            "_model_module_version": "1.5.0",
            "_model_name": "DescriptionStyleModel",
            "_view_count": null,
            "_view_module": "@jupyter-widgets/base",
            "_view_module_version": "1.2.0",
            "_view_name": "StyleView",
            "description_width": ""
          }
        },
        "5aef99c2bf354ed7bc518dd346eea6f8": {
          "model_module": "@jupyter-widgets/controls",
          "model_module_version": "1.5.0",
          "model_name": "FloatProgressModel",
          "state": {
            "_dom_classes": [],
            "_model_module": "@jupyter-widgets/controls",
            "_model_module_version": "1.5.0",
            "_model_name": "FloatProgressModel",
            "_view_count": null,
            "_view_module": "@jupyter-widgets/controls",
            "_view_module_version": "1.5.0",
            "_view_name": "ProgressView",
            "bar_style": "success",
            "description": "",
            "description_tooltip": null,
            "layout": "IPY_MODEL_34b011e3fc354d7eb5073d3700ba917a",
            "max": 456318,
            "min": 0,
            "orientation": "horizontal",
            "style": "IPY_MODEL_62b30326d739469f80f3f403ae82b732",
            "value": 456318
          }
        },
        "6117904a079d438fbaf3ab4da16fe4a2": {
          "model_module": "@jupyter-widgets/controls",
          "model_module_version": "1.5.0",
          "model_name": "DescriptionStyleModel",
          "state": {
            "_model_module": "@jupyter-widgets/controls",
            "_model_module_version": "1.5.0",
            "_model_name": "DescriptionStyleModel",
            "_view_count": null,
            "_view_module": "@jupyter-widgets/base",
            "_view_module_version": "1.2.0",
            "_view_name": "StyleView",
            "description_width": ""
          }
        },
        "6248b33ac90c48a486ec591b970f3ad4": {
          "model_module": "@jupyter-widgets/controls",
          "model_module_version": "1.5.0",
          "model_name": "ProgressStyleModel",
          "state": {
            "_model_module": "@jupyter-widgets/controls",
            "_model_module_version": "1.5.0",
            "_model_name": "ProgressStyleModel",
            "_view_count": null,
            "_view_module": "@jupyter-widgets/base",
            "_view_module_version": "1.2.0",
            "_view_name": "StyleView",
            "bar_color": null,
            "description_width": ""
          }
        },
        "62b30326d739469f80f3f403ae82b732": {
          "model_module": "@jupyter-widgets/controls",
          "model_module_version": "1.5.0",
          "model_name": "ProgressStyleModel",
          "state": {
            "_model_module": "@jupyter-widgets/controls",
            "_model_module_version": "1.5.0",
            "_model_name": "ProgressStyleModel",
            "_view_count": null,
            "_view_module": "@jupyter-widgets/base",
            "_view_module_version": "1.2.0",
            "_view_name": "StyleView",
            "bar_color": null,
            "description_width": ""
          }
        },
        "6721812efc8d497eb6e4805fd196f5eb": {
          "model_module": "@jupyter-widgets/base",
          "model_module_version": "1.2.0",
          "model_name": "LayoutModel",
          "state": {
            "_model_module": "@jupyter-widgets/base",
            "_model_module_version": "1.2.0",
            "_model_name": "LayoutModel",
            "_view_count": null,
            "_view_module": "@jupyter-widgets/base",
            "_view_module_version": "1.2.0",
            "_view_name": "LayoutView",
            "align_content": null,
            "align_items": null,
            "align_self": null,
            "border": null,
            "bottom": null,
            "display": null,
            "flex": null,
            "flex_flow": null,
            "grid_area": null,
            "grid_auto_columns": null,
            "grid_auto_flow": null,
            "grid_auto_rows": null,
            "grid_column": null,
            "grid_gap": null,
            "grid_row": null,
            "grid_template_areas": null,
            "grid_template_columns": null,
            "grid_template_rows": null,
            "height": null,
            "justify_content": null,
            "justify_items": null,
            "left": null,
            "margin": null,
            "max_height": null,
            "max_width": null,
            "min_height": null,
            "min_width": null,
            "object_fit": null,
            "object_position": null,
            "order": null,
            "overflow": null,
            "overflow_x": null,
            "overflow_y": null,
            "padding": null,
            "right": null,
            "top": null,
            "visibility": null,
            "width": null
          }
        },
        "67c4e93657c543a2925448c30008fd02": {
          "model_module": "@jupyter-widgets/controls",
          "model_module_version": "1.5.0",
          "model_name": "FloatProgressModel",
          "state": {
            "_dom_classes": [],
            "_model_module": "@jupyter-widgets/controls",
            "_model_module_version": "1.5.0",
            "_model_name": "FloatProgressModel",
            "_view_count": null,
            "_view_module": "@jupyter-widgets/controls",
            "_view_module_version": "1.5.0",
            "_view_name": "ProgressView",
            "bar_style": "success",
            "description": "",
            "description_tooltip": null,
            "layout": "IPY_MODEL_76c2f214cc00486aad6cdefcdffcdaa0",
            "max": 665,
            "min": 0,
            "orientation": "horizontal",
            "style": "IPY_MODEL_5125f72fff9e41cb9ecb0fc108e589c9",
            "value": 665
          }
        },
        "6ce31c1666224039bdf7f4c3398bfca3": {
          "model_module": "@jupyter-widgets/controls",
          "model_module_version": "1.5.0",
          "model_name": "DescriptionStyleModel",
          "state": {
            "_model_module": "@jupyter-widgets/controls",
            "_model_module_version": "1.5.0",
            "_model_name": "DescriptionStyleModel",
            "_view_count": null,
            "_view_module": "@jupyter-widgets/base",
            "_view_module_version": "1.2.0",
            "_view_name": "StyleView",
            "description_width": ""
          }
        },
        "6e9eb2f64a504f908d3e6928e4303353": {
          "model_module": "@jupyter-widgets/base",
          "model_module_version": "1.2.0",
          "model_name": "LayoutModel",
          "state": {
            "_model_module": "@jupyter-widgets/base",
            "_model_module_version": "1.2.0",
            "_model_name": "LayoutModel",
            "_view_count": null,
            "_view_module": "@jupyter-widgets/base",
            "_view_module_version": "1.2.0",
            "_view_name": "LayoutView",
            "align_content": null,
            "align_items": null,
            "align_self": null,
            "border": null,
            "bottom": null,
            "display": null,
            "flex": null,
            "flex_flow": null,
            "grid_area": null,
            "grid_auto_columns": null,
            "grid_auto_flow": null,
            "grid_auto_rows": null,
            "grid_column": null,
            "grid_gap": null,
            "grid_row": null,
            "grid_template_areas": null,
            "grid_template_columns": null,
            "grid_template_rows": null,
            "height": null,
            "justify_content": null,
            "justify_items": null,
            "left": null,
            "margin": null,
            "max_height": null,
            "max_width": null,
            "min_height": null,
            "min_width": null,
            "object_fit": null,
            "object_position": null,
            "order": null,
            "overflow": null,
            "overflow_x": null,
            "overflow_y": null,
            "padding": null,
            "right": null,
            "top": null,
            "visibility": null,
            "width": null
          }
        },
        "6ffa8f079c6442cbb1f04c45fa61930f": {
          "model_module": "@jupyter-widgets/base",
          "model_module_version": "1.2.0",
          "model_name": "LayoutModel",
          "state": {
            "_model_module": "@jupyter-widgets/base",
            "_model_module_version": "1.2.0",
            "_model_name": "LayoutModel",
            "_view_count": null,
            "_view_module": "@jupyter-widgets/base",
            "_view_module_version": "1.2.0",
            "_view_name": "LayoutView",
            "align_content": null,
            "align_items": null,
            "align_self": null,
            "border": null,
            "bottom": null,
            "display": null,
            "flex": null,
            "flex_flow": null,
            "grid_area": null,
            "grid_auto_columns": null,
            "grid_auto_flow": null,
            "grid_auto_rows": null,
            "grid_column": null,
            "grid_gap": null,
            "grid_row": null,
            "grid_template_areas": null,
            "grid_template_columns": null,
            "grid_template_rows": null,
            "height": null,
            "justify_content": null,
            "justify_items": null,
            "left": null,
            "margin": null,
            "max_height": null,
            "max_width": null,
            "min_height": null,
            "min_width": null,
            "object_fit": null,
            "object_position": null,
            "order": null,
            "overflow": null,
            "overflow_x": null,
            "overflow_y": null,
            "padding": null,
            "right": null,
            "top": null,
            "visibility": null,
            "width": null
          }
        },
        "76c2f214cc00486aad6cdefcdffcdaa0": {
          "model_module": "@jupyter-widgets/base",
          "model_module_version": "1.2.0",
          "model_name": "LayoutModel",
          "state": {
            "_model_module": "@jupyter-widgets/base",
            "_model_module_version": "1.2.0",
            "_model_name": "LayoutModel",
            "_view_count": null,
            "_view_module": "@jupyter-widgets/base",
            "_view_module_version": "1.2.0",
            "_view_name": "LayoutView",
            "align_content": null,
            "align_items": null,
            "align_self": null,
            "border": null,
            "bottom": null,
            "display": null,
            "flex": null,
            "flex_flow": null,
            "grid_area": null,
            "grid_auto_columns": null,
            "grid_auto_flow": null,
            "grid_auto_rows": null,
            "grid_column": null,
            "grid_gap": null,
            "grid_row": null,
            "grid_template_areas": null,
            "grid_template_columns": null,
            "grid_template_rows": null,
            "height": null,
            "justify_content": null,
            "justify_items": null,
            "left": null,
            "margin": null,
            "max_height": null,
            "max_width": null,
            "min_height": null,
            "min_width": null,
            "object_fit": null,
            "object_position": null,
            "order": null,
            "overflow": null,
            "overflow_x": null,
            "overflow_y": null,
            "padding": null,
            "right": null,
            "top": null,
            "visibility": null,
            "width": null
          }
        },
        "775e002a79d841e5814ebad36c28dc8e": {
          "model_module": "@jupyter-widgets/base",
          "model_module_version": "1.2.0",
          "model_name": "LayoutModel",
          "state": {
            "_model_module": "@jupyter-widgets/base",
            "_model_module_version": "1.2.0",
            "_model_name": "LayoutModel",
            "_view_count": null,
            "_view_module": "@jupyter-widgets/base",
            "_view_module_version": "1.2.0",
            "_view_name": "LayoutView",
            "align_content": null,
            "align_items": null,
            "align_self": null,
            "border": null,
            "bottom": null,
            "display": null,
            "flex": null,
            "flex_flow": null,
            "grid_area": null,
            "grid_auto_columns": null,
            "grid_auto_flow": null,
            "grid_auto_rows": null,
            "grid_column": null,
            "grid_gap": null,
            "grid_row": null,
            "grid_template_areas": null,
            "grid_template_columns": null,
            "grid_template_rows": null,
            "height": null,
            "justify_content": null,
            "justify_items": null,
            "left": null,
            "margin": null,
            "max_height": null,
            "max_width": null,
            "min_height": null,
            "min_width": null,
            "object_fit": null,
            "object_position": null,
            "order": null,
            "overflow": null,
            "overflow_x": null,
            "overflow_y": null,
            "padding": null,
            "right": null,
            "top": null,
            "visibility": null,
            "width": null
          }
        },
        "7d5b54e17c354b1f800f81d4a5428ff9": {
          "model_module": "@jupyter-widgets/controls",
          "model_module_version": "1.5.0",
          "model_name": "HTMLModel",
          "state": {
            "_dom_classes": [],
            "_model_module": "@jupyter-widgets/controls",
            "_model_module_version": "1.5.0",
            "_model_name": "HTMLModel",
            "_view_count": null,
            "_view_module": "@jupyter-widgets/controls",
            "_view_module_version": "1.5.0",
            "_view_name": "HTMLView",
            "description": "",
            "description_tooltip": null,
            "layout": "IPY_MODEL_9bdd99caf0ad4f038e731883dce2146e",
            "placeholder": "​",
            "style": "IPY_MODEL_bce97fa787184732a997abc82a931e05",
            "value": "Downloading: 100%"
          }
        },
        "7dc0ed7811c846b2bf71e8b4e938a0ae": {
          "model_module": "@jupyter-widgets/base",
          "model_module_version": "1.2.0",
          "model_name": "LayoutModel",
          "state": {
            "_model_module": "@jupyter-widgets/base",
            "_model_module_version": "1.2.0",
            "_model_name": "LayoutModel",
            "_view_count": null,
            "_view_module": "@jupyter-widgets/base",
            "_view_module_version": "1.2.0",
            "_view_name": "LayoutView",
            "align_content": null,
            "align_items": null,
            "align_self": null,
            "border": null,
            "bottom": null,
            "display": null,
            "flex": null,
            "flex_flow": null,
            "grid_area": null,
            "grid_auto_columns": null,
            "grid_auto_flow": null,
            "grid_auto_rows": null,
            "grid_column": null,
            "grid_gap": null,
            "grid_row": null,
            "grid_template_areas": null,
            "grid_template_columns": null,
            "grid_template_rows": null,
            "height": null,
            "justify_content": null,
            "justify_items": null,
            "left": null,
            "margin": null,
            "max_height": null,
            "max_width": null,
            "min_height": null,
            "min_width": null,
            "object_fit": null,
            "object_position": null,
            "order": null,
            "overflow": null,
            "overflow_x": null,
            "overflow_y": null,
            "padding": null,
            "right": null,
            "top": null,
            "visibility": null,
            "width": null
          }
        },
        "8a8f6f15d8754a82aee41b58e9591d8c": {
          "model_module": "@jupyter-widgets/controls",
          "model_module_version": "1.5.0",
          "model_name": "HBoxModel",
          "state": {
            "_dom_classes": [],
            "_model_module": "@jupyter-widgets/controls",
            "_model_module_version": "1.5.0",
            "_model_name": "HBoxModel",
            "_view_count": null,
            "_view_module": "@jupyter-widgets/controls",
            "_view_module_version": "1.5.0",
            "_view_name": "HBoxView",
            "box_style": "",
            "children": [
              "IPY_MODEL_4d54e0ad3264452ba0a1eaa3f9cac29f",
              "IPY_MODEL_c1f0bb443ba549b288b1d6e8de38792e",
              "IPY_MODEL_991821ed1e0846c3b16b1a0306e57e8b"
            ],
            "layout": "IPY_MODEL_d67785040cf84061aa58ae283decae08"
          }
        },
        "991821ed1e0846c3b16b1a0306e57e8b": {
          "model_module": "@jupyter-widgets/controls",
          "model_module_version": "1.5.0",
          "model_name": "HTMLModel",
          "state": {
            "_dom_classes": [],
            "_model_module": "@jupyter-widgets/controls",
            "_model_module_version": "1.5.0",
            "_model_name": "HTMLModel",
            "_view_count": null,
            "_view_module": "@jupyter-widgets/controls",
            "_view_module_version": "1.5.0",
            "_view_name": "HTMLView",
            "description": "",
            "description_tooltip": null,
            "layout": "IPY_MODEL_6721812efc8d497eb6e4805fd196f5eb",
            "placeholder": "​",
            "style": "IPY_MODEL_411fe9038aec4b93bed67fb493a32618",
            "value": " 475M/475M [00:13&lt;00:00, 39.8MB/s]"
          }
        },
        "9bdd99caf0ad4f038e731883dce2146e": {
          "model_module": "@jupyter-widgets/base",
          "model_module_version": "1.2.0",
          "model_name": "LayoutModel",
          "state": {
            "_model_module": "@jupyter-widgets/base",
            "_model_module_version": "1.2.0",
            "_model_name": "LayoutModel",
            "_view_count": null,
            "_view_module": "@jupyter-widgets/base",
            "_view_module_version": "1.2.0",
            "_view_name": "LayoutView",
            "align_content": null,
            "align_items": null,
            "align_self": null,
            "border": null,
            "bottom": null,
            "display": null,
            "flex": null,
            "flex_flow": null,
            "grid_area": null,
            "grid_auto_columns": null,
            "grid_auto_flow": null,
            "grid_auto_rows": null,
            "grid_column": null,
            "grid_gap": null,
            "grid_row": null,
            "grid_template_areas": null,
            "grid_template_columns": null,
            "grid_template_rows": null,
            "height": null,
            "justify_content": null,
            "justify_items": null,
            "left": null,
            "margin": null,
            "max_height": null,
            "max_width": null,
            "min_height": null,
            "min_width": null,
            "object_fit": null,
            "object_position": null,
            "order": null,
            "overflow": null,
            "overflow_x": null,
            "overflow_y": null,
            "padding": null,
            "right": null,
            "top": null,
            "visibility": null,
            "width": null
          }
        },
        "a2a045421951430ebc57f44047ce87e4": {
          "model_module": "@jupyter-widgets/controls",
          "model_module_version": "1.5.0",
          "model_name": "HBoxModel",
          "state": {
            "_dom_classes": [],
            "_model_module": "@jupyter-widgets/controls",
            "_model_module_version": "1.5.0",
            "_model_name": "HBoxModel",
            "_view_count": null,
            "_view_module": "@jupyter-widgets/controls",
            "_view_module_version": "1.5.0",
            "_view_name": "HBoxView",
            "box_style": "",
            "children": [
              "IPY_MODEL_cbc03f6526d449069002c410565f94c7",
              "IPY_MODEL_67c4e93657c543a2925448c30008fd02",
              "IPY_MODEL_fae76282569d42db9be95f323b49d930"
            ],
            "layout": "IPY_MODEL_306a492a3c8a47ea9bacd9910978bea9"
          }
        },
        "af94ed620f9546a191a5f61685e15cf5": {
          "model_module": "@jupyter-widgets/controls",
          "model_module_version": "1.5.0",
          "model_name": "DescriptionStyleModel",
          "state": {
            "_model_module": "@jupyter-widgets/controls",
            "_model_module_version": "1.5.0",
            "_model_name": "DescriptionStyleModel",
            "_view_count": null,
            "_view_module": "@jupyter-widgets/base",
            "_view_module_version": "1.2.0",
            "_view_name": "StyleView",
            "description_width": ""
          }
        },
        "afd17d38768540079b15aee78e31f6ef": {
          "model_module": "@jupyter-widgets/base",
          "model_module_version": "1.2.0",
          "model_name": "LayoutModel",
          "state": {
            "_model_module": "@jupyter-widgets/base",
            "_model_module_version": "1.2.0",
            "_model_name": "LayoutModel",
            "_view_count": null,
            "_view_module": "@jupyter-widgets/base",
            "_view_module_version": "1.2.0",
            "_view_name": "LayoutView",
            "align_content": null,
            "align_items": null,
            "align_self": null,
            "border": null,
            "bottom": null,
            "display": null,
            "flex": null,
            "flex_flow": null,
            "grid_area": null,
            "grid_auto_columns": null,
            "grid_auto_flow": null,
            "grid_auto_rows": null,
            "grid_column": null,
            "grid_gap": null,
            "grid_row": null,
            "grid_template_areas": null,
            "grid_template_columns": null,
            "grid_template_rows": null,
            "height": null,
            "justify_content": null,
            "justify_items": null,
            "left": null,
            "margin": null,
            "max_height": null,
            "max_width": null,
            "min_height": null,
            "min_width": null,
            "object_fit": null,
            "object_position": null,
            "order": null,
            "overflow": null,
            "overflow_x": null,
            "overflow_y": null,
            "padding": null,
            "right": null,
            "top": null,
            "visibility": null,
            "width": null
          }
        },
        "ba51d2f688d84cf19773787a27583f4c": {
          "model_module": "@jupyter-widgets/controls",
          "model_module_version": "1.5.0",
          "model_name": "HTMLModel",
          "state": {
            "_dom_classes": [],
            "_model_module": "@jupyter-widgets/controls",
            "_model_module_version": "1.5.0",
            "_model_name": "HTMLModel",
            "_view_count": null,
            "_view_module": "@jupyter-widgets/controls",
            "_view_module_version": "1.5.0",
            "_view_name": "HTMLView",
            "description": "",
            "description_tooltip": null,
            "layout": "IPY_MODEL_e1f6d37f989543ce87e12a1f73446bba",
            "placeholder": "​",
            "style": "IPY_MODEL_af94ed620f9546a191a5f61685e15cf5",
            "value": " 0.99M/0.99M [00:00&lt;00:00, 2.09MB/s]"
          }
        },
        "bce97fa787184732a997abc82a931e05": {
          "model_module": "@jupyter-widgets/controls",
          "model_module_version": "1.5.0",
          "model_name": "DescriptionStyleModel",
          "state": {
            "_model_module": "@jupyter-widgets/controls",
            "_model_module_version": "1.5.0",
            "_model_name": "DescriptionStyleModel",
            "_view_count": null,
            "_view_module": "@jupyter-widgets/base",
            "_view_module_version": "1.2.0",
            "_view_name": "StyleView",
            "description_width": ""
          }
        },
        "c1f0bb443ba549b288b1d6e8de38792e": {
          "model_module": "@jupyter-widgets/controls",
          "model_module_version": "1.5.0",
          "model_name": "FloatProgressModel",
          "state": {
            "_dom_classes": [],
            "_model_module": "@jupyter-widgets/controls",
            "_model_module_version": "1.5.0",
            "_model_name": "FloatProgressModel",
            "_view_count": null,
            "_view_module": "@jupyter-widgets/controls",
            "_view_module_version": "1.5.0",
            "_view_name": "ProgressView",
            "bar_style": "success",
            "description": "",
            "description_tooltip": null,
            "layout": "IPY_MODEL_afd17d38768540079b15aee78e31f6ef",
            "max": 497933648,
            "min": 0,
            "orientation": "horizontal",
            "style": "IPY_MODEL_6248b33ac90c48a486ec591b970f3ad4",
            "value": 497933648
          }
        },
        "c3f2f32f23bb474f8aab66dcf318da0b": {
          "model_module": "@jupyter-widgets/base",
          "model_module_version": "1.2.0",
          "model_name": "LayoutModel",
          "state": {
            "_model_module": "@jupyter-widgets/base",
            "_model_module_version": "1.2.0",
            "_model_name": "LayoutModel",
            "_view_count": null,
            "_view_module": "@jupyter-widgets/base",
            "_view_module_version": "1.2.0",
            "_view_name": "LayoutView",
            "align_content": null,
            "align_items": null,
            "align_self": null,
            "border": null,
            "bottom": null,
            "display": null,
            "flex": null,
            "flex_flow": null,
            "grid_area": null,
            "grid_auto_columns": null,
            "grid_auto_flow": null,
            "grid_auto_rows": null,
            "grid_column": null,
            "grid_gap": null,
            "grid_row": null,
            "grid_template_areas": null,
            "grid_template_columns": null,
            "grid_template_rows": null,
            "height": null,
            "justify_content": null,
            "justify_items": null,
            "left": null,
            "margin": null,
            "max_height": null,
            "max_width": null,
            "min_height": null,
            "min_width": null,
            "object_fit": null,
            "object_position": null,
            "order": null,
            "overflow": null,
            "overflow_x": null,
            "overflow_y": null,
            "padding": null,
            "right": null,
            "top": null,
            "visibility": null,
            "width": null
          }
        },
        "c9912049a982406d932e3adc9fe9d61c": {
          "model_module": "@jupyter-widgets/controls",
          "model_module_version": "1.5.0",
          "model_name": "HBoxModel",
          "state": {
            "_dom_classes": [],
            "_model_module": "@jupyter-widgets/controls",
            "_model_module_version": "1.5.0",
            "_model_name": "HBoxModel",
            "_view_count": null,
            "_view_module": "@jupyter-widgets/controls",
            "_view_module_version": "1.5.0",
            "_view_name": "HBoxView",
            "box_style": "",
            "children": [
              "IPY_MODEL_7d5b54e17c354b1f800f81d4a5428ff9",
              "IPY_MODEL_21566811379146c8b55caf7b0a9c5b27",
              "IPY_MODEL_ba51d2f688d84cf19773787a27583f4c"
            ],
            "layout": "IPY_MODEL_e6bc18dd228142a3864176937738086a"
          }
        },
        "cbc03f6526d449069002c410565f94c7": {
          "model_module": "@jupyter-widgets/controls",
          "model_module_version": "1.5.0",
          "model_name": "HTMLModel",
          "state": {
            "_dom_classes": [],
            "_model_module": "@jupyter-widgets/controls",
            "_model_module_version": "1.5.0",
            "_model_name": "HTMLModel",
            "_view_count": null,
            "_view_module": "@jupyter-widgets/controls",
            "_view_module_version": "1.5.0",
            "_view_name": "HTMLView",
            "description": "",
            "description_tooltip": null,
            "layout": "IPY_MODEL_c3f2f32f23bb474f8aab66dcf318da0b",
            "placeholder": "​",
            "style": "IPY_MODEL_6117904a079d438fbaf3ab4da16fe4a2",
            "value": "Downloading: 100%"
          }
        },
        "d67785040cf84061aa58ae283decae08": {
          "model_module": "@jupyter-widgets/base",
          "model_module_version": "1.2.0",
          "model_name": "LayoutModel",
          "state": {
            "_model_module": "@jupyter-widgets/base",
            "_model_module_version": "1.2.0",
            "_model_name": "LayoutModel",
            "_view_count": null,
            "_view_module": "@jupyter-widgets/base",
            "_view_module_version": "1.2.0",
            "_view_name": "LayoutView",
            "align_content": null,
            "align_items": null,
            "align_self": null,
            "border": null,
            "bottom": null,
            "display": null,
            "flex": null,
            "flex_flow": null,
            "grid_area": null,
            "grid_auto_columns": null,
            "grid_auto_flow": null,
            "grid_auto_rows": null,
            "grid_column": null,
            "grid_gap": null,
            "grid_row": null,
            "grid_template_areas": null,
            "grid_template_columns": null,
            "grid_template_rows": null,
            "height": null,
            "justify_content": null,
            "justify_items": null,
            "left": null,
            "margin": null,
            "max_height": null,
            "max_width": null,
            "min_height": null,
            "min_width": null,
            "object_fit": null,
            "object_position": null,
            "order": null,
            "overflow": null,
            "overflow_x": null,
            "overflow_y": null,
            "padding": null,
            "right": null,
            "top": null,
            "visibility": null,
            "width": null
          }
        },
        "dab83b336aa246e8b0e9538eb0db0a34": {
          "model_module": "@jupyter-widgets/controls",
          "model_module_version": "1.5.0",
          "model_name": "HBoxModel",
          "state": {
            "_dom_classes": [],
            "_model_module": "@jupyter-widgets/controls",
            "_model_module_version": "1.5.0",
            "_model_name": "HBoxModel",
            "_view_count": null,
            "_view_module": "@jupyter-widgets/controls",
            "_view_module_version": "1.5.0",
            "_view_name": "HBoxView",
            "box_style": "",
            "children": [
              "IPY_MODEL_2395423f62884341b2abca5418552ecf",
              "IPY_MODEL_5aef99c2bf354ed7bc518dd346eea6f8",
              "IPY_MODEL_5221c7c45d0046b99285d0dff6a801b0"
            ],
            "layout": "IPY_MODEL_32bd62bd982a42ad8910bfea5142b583"
          }
        },
        "dbc56bed04ce46b99494f2fa3ea6effc": {
          "model_module": "@jupyter-widgets/base",
          "model_module_version": "1.2.0",
          "model_name": "LayoutModel",
          "state": {
            "_model_module": "@jupyter-widgets/base",
            "_model_module_version": "1.2.0",
            "_model_name": "LayoutModel",
            "_view_count": null,
            "_view_module": "@jupyter-widgets/base",
            "_view_module_version": "1.2.0",
            "_view_name": "LayoutView",
            "align_content": null,
            "align_items": null,
            "align_self": null,
            "border": null,
            "bottom": null,
            "display": null,
            "flex": null,
            "flex_flow": null,
            "grid_area": null,
            "grid_auto_columns": null,
            "grid_auto_flow": null,
            "grid_auto_rows": null,
            "grid_column": null,
            "grid_gap": null,
            "grid_row": null,
            "grid_template_areas": null,
            "grid_template_columns": null,
            "grid_template_rows": null,
            "height": null,
            "justify_content": null,
            "justify_items": null,
            "left": null,
            "margin": null,
            "max_height": null,
            "max_width": null,
            "min_height": null,
            "min_width": null,
            "object_fit": null,
            "object_position": null,
            "order": null,
            "overflow": null,
            "overflow_x": null,
            "overflow_y": null,
            "padding": null,
            "right": null,
            "top": null,
            "visibility": null,
            "width": null
          }
        },
        "e1f6d37f989543ce87e12a1f73446bba": {
          "model_module": "@jupyter-widgets/base",
          "model_module_version": "1.2.0",
          "model_name": "LayoutModel",
          "state": {
            "_model_module": "@jupyter-widgets/base",
            "_model_module_version": "1.2.0",
            "_model_name": "LayoutModel",
            "_view_count": null,
            "_view_module": "@jupyter-widgets/base",
            "_view_module_version": "1.2.0",
            "_view_name": "LayoutView",
            "align_content": null,
            "align_items": null,
            "align_self": null,
            "border": null,
            "bottom": null,
            "display": null,
            "flex": null,
            "flex_flow": null,
            "grid_area": null,
            "grid_auto_columns": null,
            "grid_auto_flow": null,
            "grid_auto_rows": null,
            "grid_column": null,
            "grid_gap": null,
            "grid_row": null,
            "grid_template_areas": null,
            "grid_template_columns": null,
            "grid_template_rows": null,
            "height": null,
            "justify_content": null,
            "justify_items": null,
            "left": null,
            "margin": null,
            "max_height": null,
            "max_width": null,
            "min_height": null,
            "min_width": null,
            "object_fit": null,
            "object_position": null,
            "order": null,
            "overflow": null,
            "overflow_x": null,
            "overflow_y": null,
            "padding": null,
            "right": null,
            "top": null,
            "visibility": null,
            "width": null
          }
        },
        "e6bc18dd228142a3864176937738086a": {
          "model_module": "@jupyter-widgets/base",
          "model_module_version": "1.2.0",
          "model_name": "LayoutModel",
          "state": {
            "_model_module": "@jupyter-widgets/base",
            "_model_module_version": "1.2.0",
            "_model_name": "LayoutModel",
            "_view_count": null,
            "_view_module": "@jupyter-widgets/base",
            "_view_module_version": "1.2.0",
            "_view_name": "LayoutView",
            "align_content": null,
            "align_items": null,
            "align_self": null,
            "border": null,
            "bottom": null,
            "display": null,
            "flex": null,
            "flex_flow": null,
            "grid_area": null,
            "grid_auto_columns": null,
            "grid_auto_flow": null,
            "grid_auto_rows": null,
            "grid_column": null,
            "grid_gap": null,
            "grid_row": null,
            "grid_template_areas": null,
            "grid_template_columns": null,
            "grid_template_rows": null,
            "height": null,
            "justify_content": null,
            "justify_items": null,
            "left": null,
            "margin": null,
            "max_height": null,
            "max_width": null,
            "min_height": null,
            "min_width": null,
            "object_fit": null,
            "object_position": null,
            "order": null,
            "overflow": null,
            "overflow_x": null,
            "overflow_y": null,
            "padding": null,
            "right": null,
            "top": null,
            "visibility": null,
            "width": null
          }
        },
        "ea6fb84bd978400c89d313411bdd23db": {
          "model_module": "@jupyter-widgets/controls",
          "model_module_version": "1.5.0",
          "model_name": "DescriptionStyleModel",
          "state": {
            "_model_module": "@jupyter-widgets/controls",
            "_model_module_version": "1.5.0",
            "_model_name": "DescriptionStyleModel",
            "_view_count": null,
            "_view_module": "@jupyter-widgets/base",
            "_view_module_version": "1.2.0",
            "_view_name": "StyleView",
            "description_width": ""
          }
        },
        "fae76282569d42db9be95f323b49d930": {
          "model_module": "@jupyter-widgets/controls",
          "model_module_version": "1.5.0",
          "model_name": "HTMLModel",
          "state": {
            "_dom_classes": [],
            "_model_module": "@jupyter-widgets/controls",
            "_model_module_version": "1.5.0",
            "_model_name": "HTMLModel",
            "_view_count": null,
            "_view_module": "@jupyter-widgets/controls",
            "_view_module_version": "1.5.0",
            "_view_name": "HTMLView",
            "description": "",
            "description_tooltip": null,
            "layout": "IPY_MODEL_6ffa8f079c6442cbb1f04c45fa61930f",
            "placeholder": "​",
            "style": "IPY_MODEL_40f0381f1e41421db0950145689872a9",
            "value": " 665/665 [00:00&lt;00:00, 4.79kB/s]"
          }
        }
      }
    }
  },
  "nbformat": 4,
  "nbformat_minor": 0
}
